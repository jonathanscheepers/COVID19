{
 "nbformat": 4,
 "nbformat_minor": 2,
 "metadata": {
  "language_info": {
   "name": "python",
   "codemirror_mode": {
    "name": "ipython",
    "version": 3
   },
   "version": "3.8.1-final"
  },
  "orig_nbformat": 2,
  "file_extension": ".py",
  "mimetype": "text/x-python",
  "name": "python",
  "npconvert_exporter": "python",
  "pygments_lexer": "ipython3",
  "version": 3,
  "kernelspec": {
   "name": "python38164bit6d5b94c2ec1f4c3aacebeb2f43447b95",
   "display_name": "Python 3.8.1 64-bit"
  }
 },
 "cells": [
  {
   "cell_type": "code",
   "execution_count": 2,
   "metadata": {},
   "outputs": [],
   "source": [
    "import pandas as pd\n",
    "import numpy as np"
   ]
  },
  {
   "cell_type": "code",
   "execution_count": 24,
   "metadata": {},
   "outputs": [],
   "source": [
    "Country = 'Netherlands'\n",
    "\n",
    "data = pd.read_csv(r'C:\\Users\\JMSch\\Documents\\MEGA\\05_Paris\\ESCP Business School\\MSc Big Data & Business Analytics\\COVID19\\COVID19\\Data\\Extracts\\Key_Logistic_Prediction_Output_Global_20200402_21h23.csv', sep = ',')\n",
    "data = data[1:]\n",
    "data = data.filter(['Country', 'Confirmed', 'Predictions'])\n",
    "data = data.dropna()"
   ]
  },
  {
   "cell_type": "code",
   "execution_count": 23,
   "metadata": {},
   "outputs": [
    {
     "output_type": "stream",
     "name": "stdout",
     "text": "The R-2 for Netherlands = 0.99825035924343\n"
    }
   ],
   "source": [
    "ŷ = data['Predictions'].values\n",
    "y = data['Confirmed'].values\n",
    "\n",
    "correlation_matrix = np.corrcoef(ŷ, y)\n",
    "correlation_xy = correlation_matrix[0,1]\n",
    "r_squared = correlation_xy**2\n",
    "\n",
    "print(f'The R-2 for {Country} = {r_squared}')"
   ]
  },
  {
   "cell_type": "code",
   "execution_count": 25,
   "metadata": {},
   "outputs": [],
   "source": [
    "Countries = data['Country'].tolist()\n",
    "Countries = list(dict.fromkeys(Countries))"
   ]
  },
  {
   "cell_type": "code",
   "execution_count": 35,
   "metadata": {},
   "outputs": [
    {
     "output_type": "stream",
     "name": "stdout",
     "text": "The R^2 for Afghanistan =\n0.9745\n0.9729\nThe R^2 for Albania =\n0.9905\n0.9900\nThe R^2 for Algeria =\n0.9946\n0.9944\nThe R^2 for Andorra =\n0.2885\n0.2376\nThe R^2 for Argentina =\n0.9921\n0.9918\nThe R^2 for Armenia =\n0.3519\n0.3138\nThe R^2 for Austria =\n0.9965\n0.9964\nThe R^2 for Azerbaijan =\n0.9961\n0.9959\nThe R^2 for Bahamas =\n0.9388\n0.9082\nThe R^2 for Bahrain =\n0.9896\n0.9893\nThe R^2 for Bangladesh =\n0.2044\n0.1432\nThe R^2 for Barbados =\n0.3075\n0.2305\nThe R^2 for Belarus =\n0.9256\n0.9217\nThe R^2 for Belgium =\n0.9962\n0.9960\nThe R^2 for Benin =\nnan\nnan\nThe R^2 for Bolivia =\n0.4177\n0.3789\nThe R^2 for Bosnia and Herzegovina =\n0.9930\n0.9926\nThe R^2 for Brazil =\n0.9893\n0.9888\nThe R^2 for Brunei =\n0.9254\n0.9216\nThe R^2 for Bulgaria =\n0.9813\n0.9803\nThe R^2 for Burkina Faso =\n0.3178\n0.2724\nThe R^2 for Burma =\n0.4518\n-0.0965\nThe R^2 for Cambodia =\n0.1341\n0.0722\nThe R^2 for Cameroon =\n0.6020\n0.5688\nThe R^2 for Canada =\n0.9979\n0.9979\nThe R^2 for Chile =\n0.8682\n0.8620\nThe R^2 for China =\n0.9854\n0.9852\nThe R^2 for Colombia =\n0.9899\n0.9893\nThe R^2 for Congo (Brazzaville) =\nnan\nnan\nThe R^2 for Congo (Kinshasa) =\n0.5111\n0.4704\nThe R^2 for Costa Rica =\n0.9855\n0.9847\nThe R^2 for Cote d'Ivoire =\n0.3420\n0.2762\nThe R^2 for Croatia =\n0.9957\n0.9955\nThe R^2 for Cuba =\n0.4765\n0.4328\nThe R^2 for Cyprus =\n0.4553\n0.4250\nThe R^2 for Czechia =\n0.9958\n0.9957\nThe R^2 for Denmark =\n0.9758\n0.9749\nThe R^2 for Diamond Princess =\n0.5833\n0.5754\nThe R^2 for Djibouti =\n0.7299\n0.6849\nThe R^2 for Dominica =\n0.6792\n0.6151\nThe R^2 for Dominican Republic =\n0.4496\n0.4172\nThe R^2 for Ecuador =\n0.9819\n0.9812\nThe R^2 for Egypt =\n0.9949\n0.9947\nThe R^2 for El Salvador =\n0.3981\n0.2777\nThe R^2 for Equatorial Guinea =\n0.9225\n0.9070\nThe R^2 for Eritrea =\n0.5755\n0.3632\nThe R^2 for Estonia =\n0.9730\n0.9717\nThe R^2 for Ethiopia =\n0.5722\n0.5247\nThe R^2 for Finland =\n0.9947\n0.9944\nThe R^2 for France =\n0.9983\n0.9983\nThe R^2 for Gabon =\n1.0000\n-inf\nThe R^2 for Georgia =\n0.9936\n0.9933\nThe R^2 for Germany =\n0.9257\n0.9244\nThe R^2 for Ghana =\n0.3001\n0.2417\nThe R^2 for Greece =\n0.9934\n0.9932\nThe R^2 for Guatemala =\n0.3124\n0.2499\nThe R^2 for Guinea =\n0.8564\n0.7847\nThe R^2 for Guyana =\n0.3446\n0.0169\nThe R^2 for Haiti =\n0.9370\n0.9054\nThe R^2 for Honduras =\n0.4952\n0.4532\nThe R^2 for Hungary =\n0.9974\n0.9972\nThe R^2 for Iceland =\n0.9971\n0.9970\nThe R^2 for India =\n0.9866\n0.9861\nThe R^2 for Indonesia =\n0.9185\n0.9148\nThe R^2 for Iran =\n0.8870\n0.8841\nThe R^2 for Iraq =\n0.9974\n0.9973\nThe R^2 for Ireland =\n0.9959\n0.9957\nThe R^2 for Israel =\n0.9938\n0.9936\nThe R^2 for Italy =\n0.7341\n0.7273\nThe R^2 for Jamaica =\n0.4618\n0.4234\nThe R^2 for Jordan =\n0.2092\n0.1564\nThe R^2 for Kazakhstan =\n0.4502\n0.4109\nThe R^2 for Kenya =\n0.7262\n0.6957\nThe R^2 for Korea, South =\n0.9909\n0.9908\nThe R^2 for Kosovo =\n0.7302\n0.6763\nThe R^2 for Kuwait =\n0.9546\n0.9533\nThe R^2 for Kyrgyzstan =\n0.4133\n0.3546\nThe R^2 for Latvia =\n0.9901\n0.9895\nThe R^2 for Lebanon =\n0.9944\n0.9942\nThe R^2 for Liechtenstein =\n0.2589\n0.2019\nThe R^2 for Lithuania =\n0.3298\n0.2880\nThe R^2 for Luxembourg =\n0.9676\n0.9659\nThe R^2 for Madagascar =\n0.5252\n0.4659\nThe R^2 for Malaysia =\n0.9970\n0.9969\nThe R^2 for Maldives =\n0.4709\n0.4378\nThe R^2 for Mali =\n0.5748\n0.4685\nThe R^2 for Malta =\n0.2503\n0.2087\nThe R^2 for Mauritius =\n0.4158\n0.3627\nThe R^2 for Mexico =\n0.4996\n0.4732\nThe R^2 for Moldova =\n0.4786\n0.4479\nThe R^2 for Monaco =\n0.3065\n0.2435\nThe R^2 for Mongolia =\n0.8222\n0.7866\nThe R^2 for Montenegro =\n0.3860\n0.3301\nThe R^2 for Morocco =\n0.9927\n0.9923\nThe R^2 for Namibia =\n0.9370\n0.9055\nThe R^2 for Netherlands =\n0.9983\n0.9982\nThe R^2 for New Zealand =\n0.3910\n0.3475\nThe R^2 for Niger =\n0.9655\n0.9483\nThe R^2 for Nigeria =\n0.5323\n0.4898\nThe R^2 for North Macedonia =\n0.9828\n0.9819\nThe R^2 for Norway =\n0.9931\n0.9929\nThe R^2 for Oman =\n0.9901\n0.9897\nThe R^2 for Pakistan =\n0.9816\n0.9807\nThe R^2 for Panama =\n0.9906\n0.9901\nThe R^2 for Paraguay =\n0.2823\n0.2271\nThe R^2 for Peru =\n0.9882\n0.9877\nThe R^2 for Philippines =\n0.9941\n0.9938\nThe R^2 for Poland =\n0.9978\n0.9977\nThe R^2 for Portugal =\n0.9971\n0.9969\nThe R^2 for Qatar =\n0.8473\n0.8406\nThe R^2 for Romania =\n0.9963\n0.9962\nThe R^2 for Russia =\n0.9994\n0.9993\nThe R^2 for Rwanda =\n0.3314\n0.2706\nThe R^2 for Saint Lucia =\nnan\nnan\nThe R^2 for San Marino =\n0.9761\n0.9752\nThe R^2 for Saudi Arabia =\n0.9938\n0.9935\nThe R^2 for Senegal =\n0.3541\n0.3137\nThe R^2 for Serbia =\n0.9934\n0.9930\nThe R^2 for Singapore =\n0.9888\n0.9887\nThe R^2 for Slovakia =\n0.9801\n0.9790\nThe R^2 for Slovenia =\n0.9837\n0.9830\nThe R^2 for South Africa =\n0.9510\n0.9485\nThe R^2 for Spain =\n0.9977\n0.9977\nThe R^2 for Sri Lanka =\n0.2632\n0.2171\nThe R^2 for Sweden =\n0.9928\n0.9925\nThe R^2 for Switzerland =\n0.9959\n0.9958\nThe R^2 for Taiwan* =\n0.9778\n0.9774\nThe R^2 for Tanzania =\n0.5458\n0.4953\nThe R^2 for Togo =\n0.5263\n0.4789\nThe R^2 for Trinidad and Tobago =\n0.4058\n0.3464\nThe R^2 for Tunisia =\n0.3933\n0.3596\nThe R^2 for Turkey =\n0.5206\n0.4886\nThe R^2 for US =\n0.9017\n0.9000\nThe R^2 for Uganda =\n0.4502\n0.3586\nThe R^2 for Ukraine =\n0.5316\n0.4981\nThe R^2 for United Arab Emirates =\n0.9894\n0.9891\nThe R^2 for United Kingdom =\n0.8694\n0.8657\nThe R^2 for Uruguay =\n0.2694\n0.2172\nThe R^2 for Uzbekistan =\n0.4240\n0.3797\nThe R^2 for Venezuela =\n0.2501\n0.2001\nThe R^2 for Vietnam =\n0.9896\n0.9894\nThe R^2 for West Bank and Gaza =\n0.9786\n0.9777\nThe R^2 for Zambia =\n0.3179\n0.2042\n"
    }
   ],
   "source": [
    "Full_Data = pd.DataFrame()\n",
    "\n",
    "## For each country, find the 'Time' reference since patient 1, and the corrsponding date\n",
    "for Country in Countries:\n",
    "    data_cntry = data[data.Country.eq(Country)]\n",
    "\n",
    "\n",
    "    ŷ = data_cntry['Predictions'].values\n",
    "    y = data_cntry['Confirmed'].values\n",
    "\n",
    "    n = data_cntry.count(axis='columns').count()\n",
    "    p = 1\n",
    "\n",
    "    correlation_matrix = np.corrcoef(ŷ, y)\n",
    "    correlation_xy = correlation_matrix[0,1]\n",
    "    r_squared = correlation_xy**2\n",
    "\n",
    "    adj_r_squared = 1-(1-r_squared)*(n-1)/(n-p-1)\n",
    "\n",
    "\n",
    "    print(f'The R^2 for {Country} =')\n",
    "    print(\"%.4f\" % r_squared)\n",
    "    print(\"%.4f\" % adj_r_squared)\n",
    ""
   ]
  },
  {
   "cell_type": "code",
   "execution_count": 33,
   "metadata": {},
   "outputs": [],
   "source": [
    "test = Full_Data[Full_Data.Country.eq(Country)]"
   ]
  },
  {
   "cell_type": "code",
   "execution_count": 34,
   "metadata": {},
   "outputs": [],
   "source": [
    "    # function to be minimized\n",
    "def f_sigmoid(x, a, b, c):\n",
    "    # a = sigmoid midpoint\n",
    "    # b = curve steepness (logistic growth)\n",
    "    # c = max value\n",
    "        return (c / (1 + np.exp(-b*(x-a))))"
   ]
  },
  {
   "cell_type": "code",
   "execution_count": 51,
   "metadata": {
    "tags": [
     "outputPrepend",
     "outputPrepend",
     "outputPrepend",
     "outputPrepend",
     "outputPrepend",
     "outputPrepend",
     "outputPrepend",
     "outputPrepend",
     "outputPrepend",
     "outputPrepend",
     "outputPrepend",
     "outputPrepend",
     "outputPrepend",
     "outputPrepend",
     "outputPrepend",
     "outputPrepend",
     "outputPrepend",
     "outputPrepend",
     "outputPrepend",
     "outputPrepend",
     "outputPrepend",
     "outputPrepend",
     "outputPrepend",
     "outputPrepend",
     "outputPrepend",
     "outputPrepend",
     "outputPrepend",
     "outputPrepend",
     "outputPrepend",
     "outputPrepend",
     "outputPrepend",
     "outputPrepend",
     "outputPrepend",
     "outputPrepend",
     "outputPrepend",
     "outputPrepend",
     "outputPrepend",
     "outputPrepend",
     "outputPrepend",
     "outputPrepend",
     "outputPrepend",
     "outputPrepend",
     "outputPrepend",
     "outputPrepend",
     "outputPrepend",
     "outputPrepend",
     "outputPrepend",
     "outputPrepend",
     "outputPrepend",
     "outputPrepend",
     "outputPrepend",
     "outputPrepend",
     "outputPrepend",
     "outputPrepend",
     "outputPrepend",
     "outputPrepend",
     "outputPrepend",
     "outputPrepend",
     "outputPrepend",
     "outputPrepend",
     "outputPrepend",
     "outputPrepend",
     "outputPrepend",
     "outputPrepend",
     "outputPrepend",
     "outputPrepend",
     "outputPrepend",
     "outputPrepend",
     "outputPrepend",
     "outputPrepend",
     "outputPrepend",
     "outputPrepend",
     "outputPrepend",
     "outputPrepend",
     "outputPrepend",
     "outputPrepend",
     "outputPrepend",
     "outputPrepend",
     "outputPrepend",
     "outputPrepend",
     "outputPrepend"
    ]
   },
   "outputs": [
    {
     "output_type": "stream",
     "name": "stdout",
     "text": "France\n"
    }
   ],
   "source": [
    "## building the model per country\n",
    "Pred_Data = pd.DataFrame()\n",
    "#Full_Data = pd.DataFrame()\n",
    "\n",
    "for Country in Countries:\n",
    "    data_cntry = Full_Data[Full_Data.Country.eq(Country)]\n",
    "    if data_cntry.count(axis='columns').count() > 0:\n",
    "        try:\n",
    "            \n",
    "            data_cntry = data_cntry[['Country', 'Time','Confirmed','Date']]\n",
    "  \n",
    "            Model_Data = data_cntry.dropna()\n",
    "            x = Model_Data['Time'].values\n",
    "            y = Model_Data['Confirmed'].values\n",
    "\n",
    "            print(Country)\n",
    "            # fitting the data on the logistic function\n",
    "    \t    # A: sigmoid midmoint\n",
    "            # B: curve steepness (logistic growth)\n",
    "            # C: max value\n",
    "            popt_sig, pcov_sig = curve_fit(f_sigmoid, x, y, method='dogbox', bounds=([20., 0.001, y.mean()],[60., 2.5, 10*y.max()]), maxfev=5000)\n",
    "            #print(popt_sig)\n",
    "\n",
    "            Pred_Length = data_cntry['Confirmed'].values\n",
    "\n",
    "            x_m = np.arange(len(Pred_Length))\n",
    "            y_m = f_sigmoid(x_m, *popt_sig)\n",
    "\n",
    "            data_cntry['Predictions']=pd.Series(y_m)\n",
    "\n",
    "            Pred_Data = pd.concat([Pred_Data,data_cntry]) \n",
    "\n",
    "        except:\n",
    "           continue\n",
    "\n",
    "    else:\n",
    "            continue\n",
    ""
   ]
  },
  {
   "cell_type": "code",
   "execution_count": 52,
   "metadata": {},
   "outputs": [
    {
     "output_type": "execute_result",
     "data": {
      "text/plain": "   Country  Time  Confirmed        Date    Predictions\n50  France    51    40708.0  29/03/2020   37660.044304\n51  France    52    45170.0  30/03/2020   42231.281592\n52  France    53    52827.0  31/03/2020   47003.564654\n53  France    54    57749.0  01/04/2020   51910.241357\n54  France    55        NaN  02/04/2020   56876.533068\n55  France    56        NaN  03/04/2020   61823.948474\n56  France    57        NaN  04/04/2020   66675.179003\n57  France    58        NaN  05/04/2020   71358.839581\n58  France    59        NaN  06/04/2020   75813.452367\n59  France    60        NaN  07/04/2020   79990.232358\n60  France    61        NaN  08/04/2020   83854.471667\n61  France    62        NaN  09/04/2020   87385.565157\n62  France    63        NaN  10/04/2020   90575.914022\n63  France    64        NaN  11/04/2020   93429.052713\n64  France    65        NaN  12/04/2020   95957.366301\n65  France    66        NaN  13/04/2020   98179.720331\n66  France    67        NaN  14/04/2020  100119.243382\n67  France    68        NaN  15/04/2020  101801.411572",
      "text/html": "<div>\n<style scoped>\n    .dataframe tbody tr th:only-of-type {\n        vertical-align: middle;\n    }\n\n    .dataframe tbody tr th {\n        vertical-align: top;\n    }\n\n    .dataframe thead th {\n        text-align: right;\n    }\n</style>\n<table border=\"1\" class=\"dataframe\">\n  <thead>\n    <tr style=\"text-align: right;\">\n      <th></th>\n      <th>Country</th>\n      <th>Time</th>\n      <th>Confirmed</th>\n      <th>Date</th>\n      <th>Predictions</th>\n    </tr>\n  </thead>\n  <tbody>\n    <tr>\n      <th>50</th>\n      <td>France</td>\n      <td>51</td>\n      <td>40708.0</td>\n      <td>29/03/2020</td>\n      <td>37660.044304</td>\n    </tr>\n    <tr>\n      <th>51</th>\n      <td>France</td>\n      <td>52</td>\n      <td>45170.0</td>\n      <td>30/03/2020</td>\n      <td>42231.281592</td>\n    </tr>\n    <tr>\n      <th>52</th>\n      <td>France</td>\n      <td>53</td>\n      <td>52827.0</td>\n      <td>31/03/2020</td>\n      <td>47003.564654</td>\n    </tr>\n    <tr>\n      <th>53</th>\n      <td>France</td>\n      <td>54</td>\n      <td>57749.0</td>\n      <td>01/04/2020</td>\n      <td>51910.241357</td>\n    </tr>\n    <tr>\n      <th>54</th>\n      <td>France</td>\n      <td>55</td>\n      <td>NaN</td>\n      <td>02/04/2020</td>\n      <td>56876.533068</td>\n    </tr>\n    <tr>\n      <th>55</th>\n      <td>France</td>\n      <td>56</td>\n      <td>NaN</td>\n      <td>03/04/2020</td>\n      <td>61823.948474</td>\n    </tr>\n    <tr>\n      <th>56</th>\n      <td>France</td>\n      <td>57</td>\n      <td>NaN</td>\n      <td>04/04/2020</td>\n      <td>66675.179003</td>\n    </tr>\n    <tr>\n      <th>57</th>\n      <td>France</td>\n      <td>58</td>\n      <td>NaN</td>\n      <td>05/04/2020</td>\n      <td>71358.839581</td>\n    </tr>\n    <tr>\n      <th>58</th>\n      <td>France</td>\n      <td>59</td>\n      <td>NaN</td>\n      <td>06/04/2020</td>\n      <td>75813.452367</td>\n    </tr>\n    <tr>\n      <th>59</th>\n      <td>France</td>\n      <td>60</td>\n      <td>NaN</td>\n      <td>07/04/2020</td>\n      <td>79990.232358</td>\n    </tr>\n    <tr>\n      <th>60</th>\n      <td>France</td>\n      <td>61</td>\n      <td>NaN</td>\n      <td>08/04/2020</td>\n      <td>83854.471667</td>\n    </tr>\n    <tr>\n      <th>61</th>\n      <td>France</td>\n      <td>62</td>\n      <td>NaN</td>\n      <td>09/04/2020</td>\n      <td>87385.565157</td>\n    </tr>\n    <tr>\n      <th>62</th>\n      <td>France</td>\n      <td>63</td>\n      <td>NaN</td>\n      <td>10/04/2020</td>\n      <td>90575.914022</td>\n    </tr>\n    <tr>\n      <th>63</th>\n      <td>France</td>\n      <td>64</td>\n      <td>NaN</td>\n      <td>11/04/2020</td>\n      <td>93429.052713</td>\n    </tr>\n    <tr>\n      <th>64</th>\n      <td>France</td>\n      <td>65</td>\n      <td>NaN</td>\n      <td>12/04/2020</td>\n      <td>95957.366301</td>\n    </tr>\n    <tr>\n      <th>65</th>\n      <td>France</td>\n      <td>66</td>\n      <td>NaN</td>\n      <td>13/04/2020</td>\n      <td>98179.720331</td>\n    </tr>\n    <tr>\n      <th>66</th>\n      <td>France</td>\n      <td>67</td>\n      <td>NaN</td>\n      <td>14/04/2020</td>\n      <td>100119.243382</td>\n    </tr>\n    <tr>\n      <th>67</th>\n      <td>France</td>\n      <td>68</td>\n      <td>NaN</td>\n      <td>15/04/2020</td>\n      <td>101801.411572</td>\n    </tr>\n  </tbody>\n</table>\n</div>"
     },
     "metadata": {},
     "execution_count": 52
    }
   ],
   "source": [
    "Pred_Data[50:70]"
   ]
  },
  {
   "cell_type": "code",
   "execution_count": 44,
   "metadata": {},
   "outputs": [],
   "source": [
    "now = datetime.now() # current date and time\n",
    "\n",
    "Now = now.strftime(\"%Y%m%d_%Hh%M\")\n",
    "\n",
    "Pred_Data.to_csv(f'C:\\\\Users\\\\JMSch\\\\Documents\\\\MEGA\\\\05_Paris\\\\ESCP Business School\\\\MSc Big Data & Business Analytics\\\\COVID19\\\\COVID19\\\\Data\\\\Extracts\\\\Logistic_Prediction_Output_Global_{Country}.csv', index = False)"
   ]
  }
 ]
}