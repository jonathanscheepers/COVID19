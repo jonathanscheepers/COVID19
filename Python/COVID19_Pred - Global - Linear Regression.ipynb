{
 "nbformat": 4,
 "nbformat_minor": 2,
 "metadata": {
  "language_info": {
   "name": "python",
   "codemirror_mode": {
    "name": "ipython",
    "version": 3
   },
   "version": "3.8.1-final"
  },
  "orig_nbformat": 2,
  "file_extension": ".py",
  "mimetype": "text/x-python",
  "name": "python",
  "npconvert_exporter": "python",
  "pygments_lexer": "ipython3",
  "version": 3,
  "kernelspec": {
   "name": "python38164bit6d5b94c2ec1f4c3aacebeb2f43447b95",
   "display_name": "Python 3.8.1 64-bit"
  }
 },
 "cells": [
  {
   "cell_type": "code",
   "execution_count": 68,
   "metadata": {},
   "outputs": [],
   "source": [
    "import requests\n",
    "from datetime import date\n",
    "import datetime\n",
    "from datetime import datetime  \n",
    "from datetime import timedelta  \n",
    "import dateutil.parser\n",
    "import statsmodels.api as sm\n",
    "import pandas as pd\n",
    "import numpy as np\n",
    "import matplotlib.pyplot as plt\n",
    "import statsmodels.api as sm"
   ]
  },
  {
   "cell_type": "code",
   "execution_count": 69,
   "metadata": {},
   "outputs": [],
   "source": [
    "## Time frame D-x for calculating the regression coefficients\n",
    "Days = 3\n",
    "## Time horizon D+x for making regression predictions\n",
    "Prediction_Horizon = 14\n",
    "## Starting point for minimal number of confirmed cases\n",
    "Min_Confirmed = 0"
   ]
  },
  {
   "cell_type": "code",
   "execution_count": 70,
   "metadata": {},
   "outputs": [
    {
     "output_type": "execute_result",
     "data": {
      "text/plain": "776060"
     },
     "metadata": {},
     "execution_count": 70
    }
   ],
   "source": [
    "url = 'https://data.humdata.org/hxlproxy/data/download/time_series_covid19_confirmed_global_narrow.csv?dest=data_edit&filter01=explode&explode-header-att01=date&explode-value-att01=value&filter02=rename&rename-oldtag02=%23affected%2Bdate&rename-newtag02=%23date&rename-header02=Date&filter03=rename&rename-oldtag03=%23affected%2Bvalue&rename-newtag03=%23affected%2Binfected%2Bvalue%2Bnum&rename-header03=Value&filter04=clean&clean-date-tags04=%23date&filter05=sort&sort-tags05=%23date&sort-reverse05=on&filter06=sort&sort-tags06=%23country%2Bname%2C%23adm1%2Bname&tagger-match-all=on&tagger-default-tag=%23affected%2Blabel&tagger-01-header=province%2Fstate&tagger-01-tag=%23adm1%2Bname&tagger-02-header=country%2Fregion&tagger-02-tag=%23country%2Bname&tagger-03-header=lat&tagger-03-tag=%23geo%2Blat&tagger-04-header=long&tagger-04-tag=%23geo%2Blon&header-row=1&url=https%3A%2F%2Fraw.githubusercontent.com%2FCSSEGISandData%2FCOVID-19%2Fmaster%2Fcsse_covid_19_data%2Fcsse_covid_19_time_series%2Ftime_series_covid19_confirmed_global.csv'\n",
    "myfile = requests.get(url)\n",
    "open(r'C:\\Users\\JMSch\\Documents\\MEGA\\05_Paris\\ESCP Business School\\MSc Big Data & Business Analytics\\COVID19\\COVID19\\Data\\time_series_covid19_confirmed_global_narrow(all).csv', 'wb').write(myfile.content)"
   ]
  },
  {
   "cell_type": "code",
   "execution_count": 71,
   "metadata": {},
   "outputs": [],
   "source": [
    "data = pd.read_csv(r'C:\\Users\\JMSch\\Documents\\MEGA\\05_Paris\\ESCP Business School\\MSc Big Data & Business Analytics\\COVID19\\COVID19\\Data\\time_series_covid19_confirmed_global_narrow(all).csv', sep = ',')\n",
    "data = data[1:]\n",
    "\n",
    "## Choosing the columns for later use\n",
    "data = data.filter(['Country/Region', 'Date', 'Value'])\n",
    "## Renaming the columns we are going to use\n",
    "data.columns = ['Country', 'Date', 'Value']\n",
    "## Transforming the value to int\n",
    "data['Value'] = data['Value'].astype(int)\n",
    "data['Date'] = data['Date'].astype('datetime64[D]')\n",
    "## Summing values for 'Value' for which there are multiple records for one coutry on one day\n",
    "data['Total'] = data.groupby(['Country', 'Date'])['Value'].transform('sum')\n",
    "## Delete the duplicate records\n",
    "data = data.drop_duplicates(subset=['Country', 'Date'])\n",
    "## Sort the value from earliest to latest\n",
    "data = data.sort_values(['Date'], ascending = True)\n",
    "data.columns = ['Country', 'Date', 'Value', 'Confirmed']"
   ]
  },
  {
   "cell_type": "code",
   "execution_count": 72,
   "metadata": {},
   "outputs": [],
   "source": [
    "## Remove the dates of which no infections were reported\n",
    "data = data[data.Confirmed > Min_Confirmed]\n",
    "\n",
    "## Assign a t value to each date from the first reported infection\n",
    "#data.insert(loc=0, column='Time', value=np.arange(len(data))+1)\n",
    "\n",
    "## Transform the date from Excel numbers to Python dates\n",
    "#data['Date'] = data['Date'].apply(lambda x: x -2)\n",
    "data['Date'] = data['Date'].astype('datetime64[D]') \n",
    "data['Date'] = data['Date'].dt.strftime('%d/%m/2020')"
   ]
  },
  {
   "cell_type": "code",
   "execution_count": 73,
   "metadata": {
    "tags": [
     "outputPrepend",
     "outputPrepend",
     "outputPrepend"
    ]
   },
   "outputs": [],
   "source": [
    "data['Time'] = 1\n",
    "data = data.sort_values(by=['Country', 'Confirmed'])\n",
    "data.index = range(len(data))\n",
    "\n",
    "for index, row in data.iloc[1:].iterrows():\n",
    "    if data.loc[index, 'Country'] == data.loc[(int(index) - 1), 'Country']: \n",
    "        data_new = data[data.Country.eq(data.loc[index, 'Country'])]\n",
    "        HighestForCountry = data_new['Time'].max()\n",
    "        data.loc[index, 'Time'] = HighestForCountry + 1\n",
    "    else:\n",
    "        data.loc[index, 'Time'] = 1"
   ]
  },
  {
   "cell_type": "code",
   "execution_count": 74,
   "metadata": {},
   "outputs": [],
   "source": [
    "Countries = data['Country'].tolist()\n",
    "Countries = list(dict.fromkeys(Countries))"
   ]
  },
  {
   "cell_type": "code",
   "execution_count": 75,
   "metadata": {},
   "outputs": [],
   "source": [
    "data['logConfirmed'] = np.log(data.Confirmed)"
   ]
  },
  {
   "cell_type": "code",
   "execution_count": 76,
   "metadata": {},
   "outputs": [],
   "source": [
    "today = date.today()\n",
    "## Selecting the timeframe for building the regression\n",
    "LastWeek = today - timedelta(days=Days) \n",
    "LastWeek = LastWeek.strftime(\"%d/%m/%Y\")\n",
    ""
   ]
  },
  {
   "cell_type": "code",
   "execution_count": 77,
   "metadata": {},
   "outputs": [],
   "source": [
    "Prediction_Horizon = 14 ##Change \"14\" to adjust the forecasting horizon\n",
    "Full_Data = pd.DataFrame()\n",
    "\n",
    "## For each country, find the 'Time' reference since patient 1, and the corrsponding date\n",
    "for Country in Countries:\n",
    "    data_sub = data[data['Country'].eq(Country)]\n",
    "    Current_Horizon = int(max(data_sub['Time']))\n",
    "    FindDate = data_sub['Date'].iloc[-1]\n",
    "    MaxDate = dateutil.parser.parse(FindDate).date()\n",
    "\n",
    "## For each country, add the number of days to the prediction horizon of the dataset based on the 'Time' reference and date\n",
    "    for i in range(Prediction_Horizon):\n",
    "        New_Time = int(max(data_sub['Time'])) + 1\n",
    "        Days_Delay = (New_Time - Current_Horizon)\n",
    "        New_Date = MaxDate + timedelta(days=Days_Delay) \n",
    "        New_Date = New_Date.strftime(\"%d/%m/%Y\")\n",
    "        data_sub = data_sub.append({'Country': Country,'Date': New_Date, 'Time': New_Time},ignore_index=True)\n",
    "    Full_Data = pd.concat([Full_Data,data_sub]) \n",
    ""
   ]
  },
  {
   "cell_type": "code",
   "execution_count": 78,
   "metadata": {},
   "outputs": [],
   "source": [
    "def linear_predictions(t):\n",
    "    return np.exp(Constant_Coefficient) * np.exp(Time_Coeffificient) ** t"
   ]
  },
  {
   "cell_type": "code",
   "execution_count": 79,
   "metadata": {
    "tags": [
     "outputPrepend",
     "outputPrepend",
     "outputPrepend",
     "outputPrepend",
     "outputPrepend",
     "outputPrepend",
     "outputPrepend",
     "outputPrepend",
     "outputPrepend",
     "outputPrepend",
     "outputPrepend",
     "outputPrepend",
     "outputPrepend",
     "outputPrepend",
     "outputPrepend",
     "outputPrepend",
     "outputPrepend",
     "outputPrepend",
     "outputPrepend",
     "outputPrepend",
     "outputPrepend",
     "outputPrepend",
     "outputPrepend",
     "outputPrepend",
     "outputPrepend",
     "outputPrepend",
     "outputPrepend",
     "outputPrepend",
     "outputPrepend",
     "outputPrepend",
     "outputPrepend",
     "outputPrepend",
     "outputPrepend",
     "outputPrepend",
     "outputPrepend",
     "outputPrepend",
     "outputPrepend",
     "outputPrepend",
     "outputPrepend",
     "outputPrepend",
     "outputPrepend",
     "outputPrepend",
     "outputPrepend",
     "outputPrepend",
     "outputPrepend",
     "outputPrepend",
     "outputPrepend",
     "outputPrepend",
     "outputPrepend",
     "outputPrepend",
     "outputPrepend",
     "outputPrepend",
     "outputPrepend",
     "outputPrepend",
     "outputPrepend",
     "outputPrepend",
     "outputPrepend",
     "outputPrepend",
     "outputPrepend",
     "outputPrepend",
     "outputPrepend",
     "outputPrepend",
     "outputPrepend",
     "outputPrepend",
     "outputPrepend",
     "outputPrepend",
     "outputPrepend",
     "outputPrepend",
     "outputPrepend",
     "outputPrepend",
     "outputPrepend",
     "outputPrepend",
     "outputPrepend",
     "outputPrepend",
     "outputPrepend",
     "outputPrepend",
     "outputPrepend",
     "outputPrepend",
     "outputPrepend",
     "outputPrepend",
     "outputPrepend"
    ]
   },
   "outputs": [
    {
     "output_type": "stream",
     "name": "stderr",
     "text": " of the errors is correctly specified.\n                            OLS Regression Results                            \n==============================================================================\nDep. Variable:           logConfirmed   R-squared:                       0.997\nModel:                            OLS   Adj. R-squared:                  0.995\nMethod:                 Least Squares   F-statistic:                     371.1\nDate:                Wed, 01 Apr 2020   Prob (F-statistic):             0.0330\nTime:                        12:41:18   Log-Likelihood:                 12.944\nNo. Observations:                   3   AIC:                            -21.89\nDf Residuals:                       1   BIC:                            -23.69\nDf Model:                           1                                         \nCovariance Type:            nonrobust                                         \n==============================================================================\n                 coef    std err          t      P>|t|      [0.025      0.975]\n------------------------------------------------------------------------------\nconst          1.6877      0.246      6.870      0.092      -1.434       4.809\nTime           0.0763      0.004     19.264      0.033       0.026       0.127\n==============================================================================\nOmnibus:                          nan   Durbin-Watson:                   3.000\nProb(Omnibus):                    nan   Jarque-Bera (JB):                0.531\nSkew:                          -0.707   Prob(JB):                        0.767\nKurtosis:                       1.500   Cond. No.                     4.71e+03\n==============================================================================\n\nWarnings:\n[1] Standard Errors assume that the covariance matrix of the errors is correctly specified.\n[2] The condition number is large, 4.71e+03. This might indicate that there are\nstrong multicollinearity or other numerical problems.\n                            OLS Regression Results                            \n==============================================================================\nDep. Variable:           logConfirmed   R-squared:                       1.000\nModel:                            OLS   Adj. R-squared:                  1.000\nMethod:                 Least Squares   F-statistic:                 3.230e+06\nDate:                Wed, 01 Apr 2020   Prob (F-statistic):           0.000354\nTime:                        12:41:19   Log-Likelihood:                 25.033\nNo. Observations:                   3   AIC:                            -46.07\nDf Residuals:                       1   BIC:                            -47.87\nDf Model:                           1                                         \nCovariance Type:            nonrobust                                         \n==============================================================================\n                 coef    std err          t      P>|t|      [0.025      0.975]\n------------------------------------------------------------------------------\nconst          2.4212      0.004    572.699      0.001       2.368       2.475\nTime           0.1266   7.05e-05   1797.291      0.000       0.126       0.128\n==============================================================================\nOmnibus:                          nan   Durbin-Watson:                   3.000\nProb(Omnibus):                    nan   Jarque-Bera (JB):                0.531\nSkew:                           0.707   Prob(JB):                        0.767\nKurtosis:                       1.500   Cond. No.                     4.41e+03\n==============================================================================\n\nWarnings:\n[1] Standard Errors assume that the covariance matrix of the errors is correctly specified.\n[2] The condition number is large, 4.41e+03. This might indicate that there are\nstrong multicollinearity or other numerical problems.\n                            OLS Regression Results                            \n==============================================================================\nDep. Variable:           logConfirmed   R-squared:                       0.883\nModel:                            OLS   Adj. R-squared:                  0.765\nMethod:                 Least Squares   F-statistic:                     7.528\nDate:                Wed, 01 Apr 2020   Prob (F-statistic):              0.223\nTime:                        12:41:19   Log-Likelihood:                 8.1911\nNo. Observations:                   3   AIC:                            -12.38\nDf Residuals:                       1   BIC:                            -14.18\nDf Model:                           1                                         \nCovariance Type:            nonrobust                                         \n==============================================================================\n                 coef    std err          t      P>|t|      [0.025      0.975]\n------------------------------------------------------------------------------\nconst          4.8577      0.329     14.773      0.043       0.680       9.036\nTime           0.0530      0.019      2.744      0.223      -0.192       0.299\n==============================================================================\nOmnibus:                          nan   Durbin-Watson:                   3.000\nProb(Omnibus):                    nan   Jarque-Bera (JB):                0.531\nSkew:                          -0.707   Prob(JB):                        0.767\nKurtosis:                       1.500   Cond. No.                         356.\n==============================================================================\n\nWarnings:\n[1] Standard Errors assume that the covariance matrix of the errors is correctly specified.\nC:\\Python38\\lib\\site-packages\\statsmodels\\stats\\stattools.py:70: ValueWarning: omni_normtest is not valid with less than 8 observations; 3 samples were given.\n  warn(\"omni_normtest is not valid with less than 8 observations; %i \"\nC:\\Python38\\lib\\site-packages\\statsmodels\\stats\\stattools.py:70: ValueWarning: omni_normtest is not valid with less than 8 observations; 3 samples were given.\n  warn(\"omni_normtest is not valid with less than 8 observations; %i \"\nC:\\Python38\\lib\\site-packages\\statsmodels\\stats\\stattools.py:70: ValueWarning: omni_normtest is not valid with less than 8 observations; 3 samples were given.\n  warn(\"omni_normtest is not valid with less than 8 observations; %i \"\nC:\\Python38\\lib\\site-packages\\statsmodels\\stats\\stattools.py:70: ValueWarning: omni_normtest is not valid with less than 8 observations; 3 samples were given.\n  warn(\"omni_normtest is not valid with less than 8 observations; %i \"\nC:\\Python38\\lib\\site-packages\\statsmodels\\stats\\stattools.py:70: ValueWarning: omni_normtest is not valid with less than 8 observations; 3 samples were given.\n  warn(\"omni_normtest is not valid with less than 8 observations; %i \"\nC:\\Python38\\lib\\site-packages\\statsmodels\\stats\\stattools.py:70: ValueWarning: omni_normtest is not valid with less than 8 observations; 3 samples were given.\n  warn(\"omni_normtest is not valid with less than 8 observations; %i \"\nC:\\Python38\\lib\\site-packages\\statsmodels\\stats\\stattools.py:70: ValueWarning: omni_normtest is not valid with less than 8 observations; 3 samples were given.\n  warn(\"omni_normtest is not valid with less than 8 observations; %i \"\nC:\\Python38\\lib\\site-packages\\statsmodels\\stats\\stattools.py:70: ValueWarning: omni_normtest is not valid with less than 8 observations; 3 samples were given.\n  warn(\"omni_normtest is not valid with less than 8 observations; %i \"\n                            OLS Regression Results                            \n==============================================================================\nDep. Variable:           logConfirmed   R-squared:                       0.888\nModel:                            OLS   Adj. R-squared:                  0.776\nMethod:                 Least Squares   F-statistic:                     7.911\nDate:                Wed, 01 Apr 2020   Prob (F-statistic):              0.217\nTime:                        12:41:19   Log-Likelihood:                 6.7166\nNo. Observations:                   3   AIC:                            -9.433\nDf Residuals:                       1   BIC:                            -11.24\nDf Model:                           1                                         \nCovariance Type:            nonrobust                                         \n==============================================================================\n                 coef    std err          t      P>|t|      [0.025      0.975]\n------------------------------------------------------------------------------\nconst          3.6190      0.506      7.152      0.088      -2.811      10.049\nTime           0.0888      0.032      2.813      0.217      -0.312       0.490\n==============================================================================\nOmnibus:                          nan   Durbin-Watson:                   3.000\nProb(Omnibus):                    nan   Jarque-Bera (JB):                0.531\nSkew:                          -0.707   Prob(JB):                        0.767\nKurtosis:                       1.500   Cond. No.                         316.\n==============================================================================\n\nWarnings:\n[1] Standard Errors assume that the covariance matrix of the errors is correctly specified.\n                            OLS Regression Results                            \n==============================================================================\nDep. Variable:           logConfirmed   R-squared:                       0.750\nModel:                            OLS   Adj. R-squared:                  0.500\nMethod:                 Least Squares   F-statistic:                     3.000\nDate:                Wed, 01 Apr 2020   Prob (F-statistic):              0.333\nTime:                        12:41:19   Log-Likelihood:                 6.2896\nNo. Observations:                   3   AIC:                            -8.579\nDf Residuals:                       1   BIC:                            -10.38\nDf Model:                           1                                         \nCovariance Type:            nonrobust                                         \n==============================================================================\n                 coef    std err          t      P>|t|      [0.025      0.975]\n------------------------------------------------------------------------------\nconst          3.7909      0.620      6.116      0.103      -4.084      11.666\nTime           0.0631      0.036      1.732      0.333      -0.400       0.526\n==============================================================================\nOmnibus:                          nan   Durbin-Watson:                   3.000\nProb(Omnibus):                    nan   Jarque-Bera (JB):                0.531\nSkew:                           0.707   Prob(JB):                        0.767\nKurtosis:                       1.500   Cond. No.                         356.\n==============================================================================\n\nWarnings:\n[1] Standard Errors assume that the covariance matrix of the errors is correctly specified.\n                            OLS Regression Results                            \n==============================================================================\nDep. Variable:           logConfirmed   R-squared:                       0.975\nModel:                            OLS   Adj. R-squared:                  0.950\nMethod:                 Least Squares   F-statistic:                     38.86\nDate:                Wed, 01 Apr 2020   Prob (F-statistic):              0.101\nTime:                        12:41:19   Log-Likelihood:                 10.278\nNo. Observations:                   3   AIC:                            -16.56\nDf Residuals:                       1   BIC:                            -18.36\nDf Model:                           1                                         \nCovariance Type:            nonrobust                                         \n==============================================================================\n                 coef    std err          t      P>|t|      [0.025      0.975]\n------------------------------------------------------------------------------\nconst          1.2172      0.655      1.857      0.314      -7.110       9.544\nTime           0.0601      0.010      6.233      0.101      -0.062       0.183\n==============================================================================\nOmnibus:                          nan   Durbin-Watson:                   3.000\nProb(Omnibus):                    nan   Jarque-Bera (JB):                0.531\nSkew:                           0.707   Prob(JB):                        0.767\nKurtosis:                       1.500   Cond. No.                     5.67e+03\n==============================================================================\n\nWarnings:\n[1] Standard Errors assume that the covariance matrix of the errors is correctly specified.\n[2] The condition number is large, 5.67e+03. This might indicate that there are\nstrong multicollinearity or other numerical problems.\n                            OLS Regression Results                            \n==============================================================================\nDep. Variable:           logConfirmed   R-squared:                       0.945\nModel:                            OLS   Adj. R-squared:                  0.890\nMethod:                 Least Squares   F-statistic:                     17.15\nDate:                Wed, 01 Apr 2020   Prob (F-statistic):              0.151\nTime:                        12:41:19   Log-Likelihood:                 9.9929\nNo. Observations:                   3   AIC:                            -15.99\nDf Residuals:                       1   BIC:                            -17.79\nDf Model:                           1                                         \nCovariance Type:            nonrobust                                         \n==============================================================================\n                 coef    std err          t      P>|t|      [0.025      0.975]\n------------------------------------------------------------------------------\nconst          3.6003      0.276     13.061      0.049       0.098       7.103\nTime           0.0439      0.011      4.142      0.151      -0.091       0.179\n==============================================================================\nOmnibus:                          nan   Durbin-Watson:                   3.000\nProb(Omnibus):                    nan   Jarque-Bera (JB):                0.531\nSkew:                           0.707   Prob(JB):                        0.767\nKurtosis:                       1.500   Cond. No.                         830.\n==============================================================================\n\nWarnings:\n[1] Standard Errors assume that the covariance matrix of the errors is correctly specified.\n                            OLS Regression Results                            \n==============================================================================\nDep. Variable:           logConfirmed   R-squared:                       0.750\nModel:                            OLS   Adj. R-squared:                  0.500\nMethod:                 Least Squares   F-statistic:                     3.000\nDate:                Wed, 01 Apr 2020   Prob (F-statistic):              0.333\nTime:                        12:41:19   Log-Likelihood:                 5.0918\nNo. Observations:                   3   AIC:                            -6.184\nDf Residuals:                       1   BIC:                            -7.986\nDf Model:                           1                                         \nCovariance Type:            nonrobust                                         \n==============================================================================\n                 coef    std err          t      P>|t|      [0.025      0.975]\n------------------------------------------------------------------------------\nconst          2.2703      0.707      3.211      0.192      -6.714      11.255\nTime           0.0940      0.054      1.732      0.333      -0.596       0.784\n==============================================================================\nOmnibus:                          nan   Durbin-Watson:                   3.000\nProb(Omnibus):                    nan   Jarque-Bera (JB):                0.531\nSkew:                           0.707   Prob(JB):                        0.767\nKurtosis:                       1.500   Cond. No.                         209.\n==============================================================================\n\nWarnings:\n[1] Standard Errors assume that the covariance matrix of the errors is correctly specified.\n                            OLS Regression Results                            \n==============================================================================\nDep. Variable:           logConfirmed   R-squared:                       0.750\nModel:                            OLS   Adj. R-squared:                  0.500\nMethod:                 Least Squares   F-statistic:                     3.000\nDate:                Wed, 01 Apr 2020   Prob (F-statistic):              0.333\nTime:                        12:41:19   Log-Likelihood:                 6.1190\nNo. Observations:                   3   AIC:                            -8.238\nDf Residuals:                       1   BIC:                            -10.04\nDf Model:                           1                                         \nCovariance Type:            nonrobust                                         \n==============================================================================\n                 coef    std err          t      P>|t|      [0.025      0.975]\n------------------------------------------------------------------------------\nconst          1.2560      0.425      2.954      0.208      -4.146       6.658\nTime           0.0668      0.039      1.732      0.333      -0.423       0.557\n==============================================================================\nOmnibus:                          nan   Durbin-Watson:                   3.000\nProb(Omnibus):                    nan   Jarque-Bera (JB):                0.531\nSkew:                          -0.707   Prob(JB):                        0.767\nKurtosis:                       1.500   Cond. No.                         150.\n==============================================================================\n\nWarnings:\n[1] Standard Errors assume that the covariance matrix of the errors is correctly specified.\nC:\\Python38\\lib\\site-packages\\statsmodels\\stats\\stattools.py:70: ValueWarning: omni_normtest is not valid with less than 8 observations; 3 samples were given.\n  warn(\"omni_normtest is not valid with less than 8 observations; %i \"\nC:\\Python38\\lib\\site-packages\\statsmodels\\stats\\stattools.py:70: ValueWarning: omni_normtest is not valid with less than 8 observations; 3 samples were given.\n  warn(\"omni_normtest is not valid with less than 8 observations; %i \"\nC:\\Python38\\lib\\site-packages\\statsmodels\\stats\\stattools.py:70: ValueWarning: omni_normtest is not valid with less than 8 observations; 3 samples were given.\n  warn(\"omni_normtest is not valid with less than 8 observations; %i \"\nC:\\Python38\\lib\\site-packages\\statsmodels\\stats\\stattools.py:70: ValueWarning: omni_normtest is not valid with less than 8 observations; 3 samples were given.\n  warn(\"omni_normtest is not valid with less than 8 observations; %i \"\nC:\\Python38\\lib\\site-packages\\statsmodels\\stats\\stattools.py:70: ValueWarning: omni_normtest is not valid with less than 8 observations; 3 samples were given.\n  warn(\"omni_normtest is not valid with less than 8 observations; %i \"\n"
    }
   ],
   "source": [
    "## building the model per country\n",
    "Pred_Data = pd.DataFrame()\n",
    "\n",
    "for Country in Countries:\n",
    "    data_cntry = Full_Data[Full_Data.Country.eq(Country)]\n",
    "    if data_cntry.count(axis='columns').count() > 8:\n",
    "        try:\n",
    "            Model_Data = data_cntry.dropna()\n",
    "\n",
    "            Last_Date = int(max(Model_Data['Time']))\n",
    "            Days_Delay = (Last_Date - Days)\n",
    "            Model_Data = Model_Data.iloc[Days_Delay:]\n",
    "\n",
    "            X = Model_Data.Time\n",
    "            X = sm.add_constant(X)\n",
    "            y = Model_Data.logConfirmed\n",
    "            ############################################### RESUME HERE\n",
    "    ## the model cannot be built with NAN --> the model must be constructed with only the confirmed cases\n",
    "\n",
    "            mod = sm.OLS(y, X)\n",
    "            res = mod.fit()\n",
    "            results_summary = res.summary()\n",
    "            \n",
    "            ## This code transforms the regression coefficients into floats to use in our prediction function\n",
    "            results_as_html = results_summary.tables[1].as_html()\n",
    "            New_DF = pd.read_html(results_as_html, header=0, index_col=0)[0]\n",
    "\n",
    "            Constant_Coefficient = New_DF.at['const','coef']\n",
    "            Time_Coeffificient = New_DF.at['Time','coef']\n",
    "\n",
    "            data_cntry['Predictions'] = data_cntry.Time.apply(linear_predictions)\n",
    "    \n",
    "            Pred_Data = pd.concat([Pred_Data,data_cntry]) \n",
    "        except:\n",
    "            continue\n",
    "    else:\n",
    "            continue\n"
   ]
  },
  {
   "cell_type": "code",
   "execution_count": 80,
   "metadata": {},
   "outputs": [],
   "source": [
    "now = datetime.now() # current date and time\n",
    "\n",
    "Now = now.strftime(\"%Y%m%d_%Hh%M\")\n",
    "\n",
    "Pred_Data.to_csv(f'C:\\\\Users\\\\JMSch\\\\Documents\\\\MEGA\\\\05_Paris\\\\ESCP Business School\\\\MSc Big Data & Business Analytics\\\\COVID19\\\\COVID19\\\\Data\\\\Linear_Prediction_Output_Global_{Now}.csv', index = False)"
   ]
  }
 ]
}